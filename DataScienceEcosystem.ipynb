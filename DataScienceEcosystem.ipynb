{
 "cells": [
  {
   "cell_type": "markdown",
   "id": "7b078129-8d63-4d3a-81b4-131648629576",
   "metadata": {},
   "source": [
    "# Data Science Tools and Ecosystem"
   ]
  },
  {
   "cell_type": "markdown",
   "id": "0cb1df5d-2e8f-4fa6-b3c1-ef152f474797",
   "metadata": {},
   "source": [
    "In this notebook, Data Science Tools and Ecosystem are summarized."
   ]
  },
  {
   "cell_type": "markdown",
   "id": "92366638-9679-4200-a211-8d3bfd62d045",
   "metadata": {},
   "source": [
    "**Objectives:**\n",
    "\n",
    "- List popular languages for Data Science  \n",
    "- Identify commonly used libraries in Data Science  \n",
    "- Create tables in Markdown  \n",
    "- Demonstrate arithmetic expression examples  \n",
    "- Convert minutes into hours \n"
   ]
  },
  {
   "cell_type": "markdown",
   "id": "6708e968-8b91-40c2-8603-43bfa853a5e3",
   "metadata": {},
   "source": [
    "Some of the popular languages that Data Scientists use are:"
   ]
  },
  {
   "cell_type": "markdown",
   "id": "d025469a-412e-4125-b566-8ae797b8f493",
   "metadata": {},
   "source": [
    "1. Python\n",
    "2. R\n",
    "3. SQL"
   ]
  },
  {
   "cell_type": "markdown",
   "id": "80ddf11c-8e69-431b-ac60-fed00a944e72",
   "metadata": {},
   "source": [
    "Some of the commonly used libraries used by Data Scientists include:"
   ]
  },
  {
   "cell_type": "markdown",
   "id": "ea004cc7-14f9-4424-93e0-ebca9a92ffa2",
   "metadata": {},
   "source": [
    "1. NumPy – Core numerical computing library; provides arrays, matrices, and mathematical functions.\n",
    "\n",
    "2. Pandas – Data manipulation and analysis; great for working with data frames and structured data.\n",
    "\n",
    "3. Matplotlib – 2D plotting and visualization."
   ]
  },
  {
   "cell_type": "markdown",
   "id": "0bf35666-3ade-4acf-90ec-bdc953e8c252",
   "metadata": {},
   "source": [
    "### Data Science Tools\n",
    "\n",
    "| Data Science Tools |\n",
    "|---------------------|\n",
    "| Jupyter Notebook    |\n",
    "| RStudio             |\n",
    "| Apache Zeppelin     |\n"
   ]
  },
  {
   "cell_type": "markdown",
   "id": "ca3299a1-e3e8-4bc6-94ae-cb48c5fb9f55",
   "metadata": {},
   "source": [
    "### Below are a few examples of evaluating arithmetic expressions in Python:"
   ]
  },
  {
   "cell_type": "markdown",
   "id": "15194d0a-8d9e-4bf9-8bfc-eb34fe001b04",
   "metadata": {},
   "source": [
    "This a simple arithmetic expression to mutiply then add integers"
   ]
  },
  {
   "cell_type": "code",
   "execution_count": 1,
   "id": "560c434c-b783-41f3-9cc6-99a668d57496",
   "metadata": {},
   "outputs": [
    {
     "data": {
      "text/plain": [
       "17"
      ]
     },
     "execution_count": 1,
     "metadata": {},
     "output_type": "execute_result"
    }
   ],
   "source": [
    "(3*4)+5"
   ]
  },
  {
   "cell_type": "markdown",
   "id": "9459443e-276a-473e-b8a5-a903c5bc648e",
   "metadata": {},
   "source": [
    "This will convert 200 minutes to hours by diving by 60"
   ]
  },
  {
   "cell_type": "code",
   "execution_count": 2,
   "id": "752845a9-1691-4e38-89a1-b98f1c3341ad",
   "metadata": {},
   "outputs": [
    {
     "data": {
      "text/plain": [
       "3.3333333333333335"
      ]
     },
     "execution_count": 2,
     "metadata": {},
     "output_type": "execute_result"
    }
   ],
   "source": [
    "200/60"
   ]
  },
  {
   "cell_type": "markdown",
   "id": "d828871e-d6e4-46c1-938b-ab63561164b0",
   "metadata": {},
   "source": [
    "## Author"
   ]
  },
  {
   "cell_type": "markdown",
   "id": "87c8c7d9-7d51-43dc-8fff-7653001639c3",
   "metadata": {},
   "source": [
    "Xiaodan Liu"
   ]
  },
  {
   "cell_type": "code",
   "execution_count": null,
   "id": "9c42a8ed-40fb-4eec-8483-d737853a804f",
   "metadata": {},
   "outputs": [],
   "source": []
  }
 ],
 "metadata": {
  "kernelspec": {
   "display_name": "Python 3 (ipykernel)",
   "language": "python",
   "name": "python3"
  },
  "language_info": {
   "codemirror_mode": {
    "name": "ipython",
    "version": 3
   },
   "file_extension": ".py",
   "mimetype": "text/x-python",
   "name": "python",
   "nbconvert_exporter": "python",
   "pygments_lexer": "ipython3",
   "version": "3.12.8"
  }
 },
 "nbformat": 4,
 "nbformat_minor": 5
}
